{
  "nbformat": 4,
  "nbformat_minor": 0,
  "metadata": {
    "colab": {
      "provenance": []
    },
    "kernelspec": {
      "name": "python3",
      "display_name": "Python 3"
    },
    "language_info": {
      "name": "python"
    }
  },
  "cells": [
    {
      "cell_type": "code",
      "execution_count": null,
      "metadata": {
        "id": "z718zYpJjsPC"
      },
      "outputs": [],
      "source": [
        "import csv\n",
        "import pandas as pd\n",
        "import numpy as np\n",
        "import tensorflow as tf\n",
        "from sklearn.model_selection import train_test_split\n",
        "tf.compat.v1.enable_v2_behavior()\n",
        "\n",
        "RANDOM_SEED = 42"
      ]
    },
    {
      "cell_type": "code",
      "source": [
        "dataset = './hand_sign.csv'\n",
        "model_save_path = './hand_sign.hdf5'\n",
        "tflite_save_path = './hand_sign.tflite'"
      ],
      "metadata": {
        "id": "gnzBeaMykLhK"
      },
      "execution_count": null,
      "outputs": []
    },
    {
      "cell_type": "markdown",
      "source": [
        "## Ler input"
      ],
      "metadata": {
        "id": "VyrRPG9BwRwA"
      }
    },
    {
      "cell_type": "code",
      "source": [
        "dict = {\n",
        "        97  : \"a\",\n",
        "        98  : \"b\",\n",
        "        99  : \"c\",\n",
        "        100 : \"d\",\n",
        "        101 : \"e\",\n",
        "        102 : \"f\",\n",
        "        103 : \"g\",\n",
        "        104 : \"h\",\n",
        "        105 : \"i\",\n",
        "        106 : \"j\",\n",
        "        107 : \"k\",\n",
        "        108 : \"l\",\n",
        "        109 : \"m\",\n",
        "        110 : \"n\",\n",
        "        111 : \"o\",\n",
        "        112 : \"p\",\n",
        "        113 : \"q\",\n",
        "        114 : \"r\",\n",
        "        115 : \"s\",\n",
        "        116 : \"t\",\n",
        "        117 : \"u\",\n",
        "        118 : \"v\",\n",
        "        119 : \"w\",\n",
        "        120 : \"x\",\n",
        "        121 : \"y\",\n",
        "        122 : \"z\"\n",
        "}\n",
        "NUM_CLASSES = len(dict.keys())\n",
        "print(NUM_CLASSES)\n",
        "datasetLetters = []\n",
        "\n",
        "for i in dict.keys():\n",
        "    datasetLetters.append(f'./hand_sign_{dict[i]}.csv')\n",
        "\n",
        "# Abre um novo arquivo para escrita\n",
        "with open(dataset, 'w', newline='') as arquivo_final:\n",
        "    # Loop pelos arquivos CSV\n",
        "    for arquivo in datasetLetters:\n",
        "        # Abre o arquivo CSV\n",
        "        try:\n",
        "          with open(arquivo, 'r') as arquivo_atual:\n",
        "              # Lê cada linha e escreve no novo arquivo\n",
        "              for linha in arquivo_atual:\n",
        "                  arquivo_final.write(linha)\n",
        "        except:\n",
        "          continue"
      ],
      "metadata": {
        "colab": {
          "base_uri": "https://localhost:8080/"
        },
        "id": "PjOI6GrflIGz",
        "outputId": "334b89e4-42d4-46b4-f377-4b77264f1e1f"
      },
      "execution_count": null,
      "outputs": [
        {
          "output_type": "stream",
          "name": "stdout",
          "text": [
            "26\n"
          ]
        }
      ]
    },
    {
      "cell_type": "markdown",
      "source": [
        "# Train test split"
      ],
      "metadata": {
        "id": "IAL3PSmswWm_"
      }
    },
    {
      "cell_type": "code",
      "source": [
        "X_dataset = np.loadtxt(dataset, delimiter=',', dtype='float32', usecols=list(range(1, (21 * 2) + 1)))\n",
        "y_dataset = np.loadtxt(dataset, delimiter=',', dtype='int32', usecols=(0))\n",
        "X_train, X_test, y_train, y_test = train_test_split(X_dataset, y_dataset, train_size=0.8, random_state=RANDOM_SEED)\n"
      ],
      "metadata": {
        "id": "BwzH_GwnlMP_"
      },
      "execution_count": null,
      "outputs": []
    },
    {
      "cell_type": "code",
      "source": [
        "model = tf.keras.models.Sequential([\n",
        "    tf.keras.layers.Input((21 * 2, )),\n",
        "    tf.keras.layers.Dropout(0.2),\n",
        "    tf.keras.layers.Dense(20, activation='relu'),\n",
        "    tf.keras.layers.Dropout(0.4),\n",
        "    tf.keras.layers.Dense(10, activation='relu'),\n",
        "    tf.keras.layers.Dense(NUM_CLASSES, activation='softmax')\n",
        "])\n",
        "model.summary()"
      ],
      "metadata": {
        "colab": {
          "base_uri": "https://localhost:8080/"
        },
        "id": "IFlO4NdtlSqF",
        "outputId": "279c6f50-50c9-443f-b0cf-5321ef7817b3"
      },
      "execution_count": null,
      "outputs": [
        {
          "output_type": "stream",
          "name": "stdout",
          "text": [
            "Model: \"sequential_4\"\n",
            "_________________________________________________________________\n",
            " Layer (type)                Output Shape              Param #   \n",
            "=================================================================\n",
            " dropout_8 (Dropout)         (None, 42)                0         \n",
            "                                                                 \n",
            " dense_12 (Dense)            (None, 20)                860       \n",
            "                                                                 \n",
            " dropout_9 (Dropout)         (None, 20)                0         \n",
            "                                                                 \n",
            " dense_13 (Dense)            (None, 10)                210       \n",
            "                                                                 \n",
            " dense_14 (Dense)            (None, 26)                286       \n",
            "                                                                 \n",
            "=================================================================\n",
            "Total params: 1356 (5.30 KB)\n",
            "Trainable params: 1356 (5.30 KB)\n",
            "Non-trainable params: 0 (0.00 Byte)\n",
            "_________________________________________________________________\n"
          ]
        }
      ]
    },
    {
      "cell_type": "markdown",
      "source": [
        "# Treino"
      ],
      "metadata": {
        "id": "zvIQL8TYwgo2"
      }
    },
    {
      "cell_type": "code",
      "source": [
        "# Model compilation\n",
        "model.compile(\n",
        "    optimizer='adam',\n",
        "    loss='sparse_categorical_crossentropy',\n",
        "    metrics=['accuracy']\n",
        ")"
      ],
      "metadata": {
        "id": "QqZbD_1Ulag-"
      },
      "execution_count": null,
      "outputs": []
    },
    {
      "cell_type": "code",
      "source": [
        "model.fit(\n",
        "    X_train,\n",
        "    y_train,\n",
        "    epochs=150,\n",
        "    batch_size=32,\n",
        "    validation_data=(X_test, y_test)\n",
        ")"
      ],
      "metadata": {
        "id": "sSBYudc_lb6h"
      },
      "execution_count": null,
      "outputs": []
    },
    {
      "cell_type": "code",
      "source": [
        "import pandas as pd\n",
        "import seaborn as sns\n",
        "import matplotlib.pyplot as plt\n",
        "from sklearn.metrics import confusion_matrix, classification_report\n",
        "\n",
        "def print_confusion_matrix(y_true, y_pred, report=True):\n",
        "    labels = sorted(list(set(y_true)))\n",
        "    cmx_data = confusion_matrix(y_true, y_pred, labels=labels)\n",
        "\n",
        "    df_cmx = pd.DataFrame(cmx_data, index=labels, columns=labels)\n",
        "\n",
        "    fig, ax = plt.subplots(figsize=(7, 6))\n",
        "    sns.heatmap(df_cmx, annot=True, fmt='g' ,square=False)\n",
        "    ax.set_ylim(len(set(y_true)), 0)\n",
        "    plt.show()\n",
        "\n",
        "    if report:\n",
        "        print('Classification Report')\n",
        "        print(classification_report(y_test, y_pred))\n",
        "\n",
        "Y_pred = model.predict(X_test)\n",
        "y_pred = np.argmax(Y_pred, axis=1)\n",
        "\n",
        "print_confusion_matrix(y_test, y_pred)"
      ],
      "metadata": {
        "id": "luth7Pydlqgl"
      },
      "execution_count": null,
      "outputs": []
    },
    {
      "cell_type": "markdown",
      "source": [
        "## Salvando modelo"
      ],
      "metadata": {
        "id": "5eiT5JNCwi8M"
      }
    },
    {
      "cell_type": "code",
      "source": [
        "model.save(model_save_path, include_optimizer=False)"
      ],
      "metadata": {
        "colab": {
          "base_uri": "https://localhost:8080/"
        },
        "id": "zEiFXOL9mNlf",
        "outputId": "10b49774-0165-4961-fd7d-a53a374d24a1"
      },
      "execution_count": null,
      "outputs": [
        {
          "output_type": "stream",
          "name": "stderr",
          "text": [
            "/usr/local/lib/python3.10/dist-packages/keras/src/engine/training.py:3079: UserWarning: You are saving your model as an HDF5 file via `model.save()`. This file format is considered legacy. We recommend using instead the native Keras format, e.g. `model.save('my_model.keras')`.\n",
            "  saving_api.save_model(\n"
          ]
        }
      ]
    },
    {
      "cell_type": "markdown",
      "source": [
        "## Salvando modelo TFLite"
      ],
      "metadata": {
        "id": "l0nhfpYpwmQr"
      }
    },
    {
      "cell_type": "markdown",
      "source": [
        "Essa parte é necessária para melhor integrar com o mediapipe enquanto a aplicação tiver rodando. Isso foi retirado da biblioteca do tensorflow e também [desse repositório](https://github.com/kinivi/hand-gesture-recognition-mediapipe)."
      ],
      "metadata": {
        "id": "tUkIpXR9wqCE"
      }
    },
    {
      "cell_type": "code",
      "source": [
        "run_model = tf.function(lambda x: model(x))\n",
        "BATCH_SIZE = 1\n",
        "INPUT_SIZE = 42\n",
        "concrete_func = run_model.get_concrete_function(tf.TensorSpec([BATCH_SIZE, INPUT_SIZE], model.inputs[0].dtype))\n",
        "converter = tf.lite.TFLiteConverter.from_concrete_functions([concrete_func])\n",
        "converter.optimizations = [tf.lite.Optimize.DEFAULT]"
      ],
      "metadata": {
        "colab": {
          "base_uri": "https://localhost:8080/"
        },
        "id": "2wKjMNA2moul",
        "outputId": "8bf8dca6-e059-4b61-d6d2-decb6abe05d1"
      },
      "execution_count": null,
      "outputs": [
        {
          "output_type": "stream",
          "name": "stderr",
          "text": [
            "WARNING:absl:Please consider providing the trackable_obj argument in the from_concrete_functions. Providing without the trackable_obj argument is deprecated and it will use the deprecated conversion path.\n"
          ]
        }
      ]
    },
    {
      "cell_type": "code",
      "source": [
        "tflite_quantized_model = converter.convert()\n",
        "f = open(tflite_save_path, 'wb')\n",
        "f.write(tflite_quantized_model)\n",
        "f.close()"
      ],
      "metadata": {
        "id": "B5Wx4T4km63J"
      },
      "execution_count": null,
      "outputs": []
    }
  ]
}